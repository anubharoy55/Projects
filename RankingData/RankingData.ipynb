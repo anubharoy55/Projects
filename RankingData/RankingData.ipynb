{
 "cells": [
  {
   "cell_type": "code",
   "execution_count": 1,
   "id": "44db39cc",
   "metadata": {},
   "outputs": [],
   "source": [
    "import pandas as pd\n",
    "import seaborn as sns"
   ]
  },
  {
   "cell_type": "code",
   "execution_count": 2,
   "id": "9adb16d6",
   "metadata": {},
   "outputs": [],
   "source": [
    "df=pd.read_csv('browser_rankings_data.csv',skiprows=[0])"
   ]
  },
  {
   "cell_type": "code",
   "execution_count": 3,
   "id": "8ba816a5",
   "metadata": {
    "scrolled": true
   },
   "outputs": [
    {
     "data": {
      "text/html": [
       "<div>\n",
       "<style scoped>\n",
       "    .dataframe tbody tr th:only-of-type {\n",
       "        vertical-align: middle;\n",
       "    }\n",
       "\n",
       "    .dataframe tbody tr th {\n",
       "        vertical-align: top;\n",
       "    }\n",
       "\n",
       "    .dataframe thead th {\n",
       "        text-align: right;\n",
       "    }\n",
       "</style>\n",
       "<table border=\"1\" class=\"dataframe\">\n",
       "  <thead>\n",
       "    <tr style=\"text-align: right;\">\n",
       "      <th></th>\n",
       "      <th>ID</th>\n",
       "      <th>Keyword</th>\n",
       "      <th>Rank</th>\n",
       "      <th>Country</th>\n",
       "      <th>Language</th>\n",
       "      <th>Date</th>\n",
       "      <th>App ID</th>\n",
       "      <th>Date of Last Description Change</th>\n",
       "      <th>Short Description</th>\n",
       "      <th>Long Description</th>\n",
       "    </tr>\n",
       "  </thead>\n",
       "  <tbody>\n",
       "    <tr>\n",
       "      <th>0</th>\n",
       "      <td>1</td>\n",
       "      <td>browser</td>\n",
       "      <td>2.0</td>\n",
       "      <td>in</td>\n",
       "      <td>en</td>\n",
       "      <td>2020-12-16</td>\n",
       "      <td>net.fast.web.browser</td>\n",
       "      <td>2020-12-18</td>\n",
       "      <td>The small, fastest, secure Web Browser, best m...</td>\n",
       "      <td>One of the smallest, fastest, secure Web Brows...</td>\n",
       "    </tr>\n",
       "    <tr>\n",
       "      <th>1</th>\n",
       "      <td>2</td>\n",
       "      <td>browser</td>\n",
       "      <td>3.0</td>\n",
       "      <td>in</td>\n",
       "      <td>en</td>\n",
       "      <td>2020-12-16</td>\n",
       "      <td>com.android.chrome</td>\n",
       "      <td>2020-12-18</td>\n",
       "      <td>Fast, simple, and secure. Google Chrome browse...</td>\n",
       "      <td>Google Chrome is a fast, easy to use, and secu...</td>\n",
       "    </tr>\n",
       "    <tr>\n",
       "      <th>2</th>\n",
       "      <td>3</td>\n",
       "      <td>browser</td>\n",
       "      <td>4.0</td>\n",
       "      <td>in</td>\n",
       "      <td>en</td>\n",
       "      <td>2020-12-16</td>\n",
       "      <td>com.opera.browser</td>\n",
       "      <td>2021-02-27</td>\n",
       "      <td>Fast, safe web browser: free VPN, Ad blocker, ...</td>\n",
       "      <td>Fast, safe and private, introducing the latest...</td>\n",
       "    </tr>\n",
       "    <tr>\n",
       "      <th>3</th>\n",
       "      <td>3</td>\n",
       "      <td>browser</td>\n",
       "      <td>4.0</td>\n",
       "      <td>in</td>\n",
       "      <td>en</td>\n",
       "      <td>2020-12-16</td>\n",
       "      <td>com.opera.browser</td>\n",
       "      <td>2020-12-18</td>\n",
       "      <td>Fast, safe web browser: free VPN, Ad blocker, ...</td>\n",
       "      <td>Opera is a fast, safe web browser for your And...</td>\n",
       "    </tr>\n",
       "    <tr>\n",
       "      <th>4</th>\n",
       "      <td>4</td>\n",
       "      <td>browser</td>\n",
       "      <td>1.0</td>\n",
       "      <td>in</td>\n",
       "      <td>en</td>\n",
       "      <td>2020-12-16</td>\n",
       "      <td>com.cloudmosa.puffinTV</td>\n",
       "      <td>2021-02-07</td>\n",
       "      <td>Puffin TV Browser - One App to Watch All Video...</td>\n",
       "      <td>Puffin TV Browser is a special edition of Puff...</td>\n",
       "    </tr>\n",
       "  </tbody>\n",
       "</table>\n",
       "</div>"
      ],
      "text/plain": [
       "   ID  Keyword  Rank Country Language        Date                  App ID  \\\n",
       "0   1  browser   2.0      in       en  2020-12-16    net.fast.web.browser   \n",
       "1   2  browser   3.0      in       en  2020-12-16      com.android.chrome   \n",
       "2   3  browser   4.0      in       en  2020-12-16       com.opera.browser   \n",
       "3   3  browser   4.0      in       en  2020-12-16       com.opera.browser   \n",
       "4   4  browser   1.0      in       en  2020-12-16  com.cloudmosa.puffinTV   \n",
       "\n",
       "  Date of Last Description Change  \\\n",
       "0                      2020-12-18   \n",
       "1                      2020-12-18   \n",
       "2                      2021-02-27   \n",
       "3                      2020-12-18   \n",
       "4                      2021-02-07   \n",
       "\n",
       "                                   Short Description  \\\n",
       "0  The small, fastest, secure Web Browser, best m...   \n",
       "1  Fast, simple, and secure. Google Chrome browse...   \n",
       "2  Fast, safe web browser: free VPN, Ad blocker, ...   \n",
       "3  Fast, safe web browser: free VPN, Ad blocker, ...   \n",
       "4  Puffin TV Browser - One App to Watch All Video...   \n",
       "\n",
       "                                    Long Description  \n",
       "0  One of the smallest, fastest, secure Web Brows...  \n",
       "1  Google Chrome is a fast, easy to use, and secu...  \n",
       "2  Fast, safe and private, introducing the latest...  \n",
       "3  Opera is a fast, safe web browser for your And...  \n",
       "4  Puffin TV Browser is a special edition of Puff...  "
      ]
     },
     "execution_count": 3,
     "metadata": {},
     "output_type": "execute_result"
    }
   ],
   "source": [
    "df.head()"
   ]
  },
  {
   "cell_type": "code",
   "execution_count": 4,
   "id": "9fe076ae",
   "metadata": {},
   "outputs": [
    {
     "data": {
      "text/plain": [
       "(3066, 10)"
      ]
     },
     "execution_count": 4,
     "metadata": {},
     "output_type": "execute_result"
    }
   ],
   "source": [
    "df.shape"
   ]
  },
  {
   "cell_type": "code",
   "execution_count": 5,
   "id": "df8a5cd2",
   "metadata": {},
   "outputs": [
    {
     "name": "stdout",
     "output_type": "stream",
     "text": [
      "<class 'pandas.core.frame.DataFrame'>\n",
      "RangeIndex: 3066 entries, 0 to 3065\n",
      "Data columns (total 10 columns):\n",
      " #   Column                           Non-Null Count  Dtype  \n",
      "---  ------                           --------------  -----  \n",
      " 0   ID                               3066 non-null   int64  \n",
      " 1   Keyword                          3066 non-null   object \n",
      " 2   Rank                             3050 non-null   float64\n",
      " 3   Country                          3066 non-null   object \n",
      " 4   Language                         3066 non-null   object \n",
      " 5   Date                             3066 non-null   object \n",
      " 6   App ID                           3066 non-null   object \n",
      " 7   Date of Last Description Change  3066 non-null   object \n",
      " 8   Short Description                3066 non-null   object \n",
      " 9   Long Description                 3066 non-null   object \n",
      "dtypes: float64(1), int64(1), object(8)\n",
      "memory usage: 239.7+ KB\n"
     ]
    }
   ],
   "source": [
    "df.info()"
   ]
  },
  {
   "cell_type": "code",
   "execution_count": 6,
   "id": "b7728606",
   "metadata": {},
   "outputs": [
    {
     "data": {
      "text/plain": [
       "53190    4\n",
       "34191    4\n",
       "39871    4\n",
       "39867    4\n",
       "38054    4\n",
       "        ..\n",
       "42227    1\n",
       "42226    1\n",
       "42224    1\n",
       "42223    1\n",
       "1        1\n",
       "Name: ID, Length: 2088, dtype: int64"
      ]
     },
     "execution_count": 6,
     "metadata": {},
     "output_type": "execute_result"
    }
   ],
   "source": [
    "df[\"ID\"].value_counts()"
   ]
  },
  {
   "cell_type": "code",
   "execution_count": 7,
   "id": "f26860d7",
   "metadata": {},
   "outputs": [
    {
     "data": {
      "text/plain": [
       "browser                         608\n",
       "android browser                 608\n",
       "privacy browser                 370\n",
       "privacy browsers for android    370\n",
       "best privacy browsers           370\n",
       "fast browser                    370\n",
       "ad free browser                 370\n",
       "Name: Keyword, dtype: int64"
      ]
     },
     "execution_count": 7,
     "metadata": {},
     "output_type": "execute_result"
    }
   ],
   "source": [
    "df[\"Keyword\"].value_counts()"
   ]
  },
  {
   "cell_type": "code",
   "execution_count": 8,
   "id": "707fdb5e",
   "metadata": {},
   "outputs": [
    {
     "data": {
      "text/plain": [
       "1.0      562\n",
       "2.0      490\n",
       "3.0      214\n",
       "6.0      213\n",
       "4.0      170\n",
       "        ... \n",
       "113.0      1\n",
       "85.0       1\n",
       "62.0       1\n",
       "134.0      1\n",
       "64.0       1\n",
       "Name: Rank, Length: 119, dtype: int64"
      ]
     },
     "execution_count": 8,
     "metadata": {},
     "output_type": "execute_result"
    }
   ],
   "source": [
    "df[\"Rank\"].value_counts()"
   ]
  },
  {
   "cell_type": "code",
   "execution_count": 9,
   "id": "024695b4",
   "metadata": {},
   "outputs": [
    {
     "data": {
      "text/plain": [
       "in    3066\n",
       "Name: Country, dtype: int64"
      ]
     },
     "execution_count": 9,
     "metadata": {},
     "output_type": "execute_result"
    }
   ],
   "source": [
    "df[\"Country\"].value_counts()"
   ]
  },
  {
   "cell_type": "code",
   "execution_count": 10,
   "id": "0d58b7a1",
   "metadata": {},
   "outputs": [
    {
     "data": {
      "text/plain": [
       "en    3066\n",
       "Name: Language, dtype: int64"
      ]
     },
     "execution_count": 10,
     "metadata": {},
     "output_type": "execute_result"
    }
   ],
   "source": [
    "df[\"Language\"].value_counts()"
   ]
  },
  {
   "cell_type": "code",
   "execution_count": 11,
   "id": "75f29772",
   "metadata": {},
   "outputs": [
    {
     "data": {
      "text/plain": [
       "2021-01-27    41\n",
       "2021-02-16    41\n",
       "2021-02-14    41\n",
       "2021-02-13    41\n",
       "2021-02-12    41\n",
       "              ..\n",
       "2021-01-10    41\n",
       "2021-01-09    41\n",
       "2020-12-19    41\n",
       "2020-12-17    16\n",
       "2020-12-16    16\n",
       "Name: Date, Length: 76, dtype: int64"
      ]
     },
     "execution_count": 11,
     "metadata": {},
     "output_type": "execute_result"
    }
   ],
   "source": [
    "df[\"Date\"].value_counts()"
   ]
  },
  {
   "cell_type": "code",
   "execution_count": 12,
   "id": "d0deea68",
   "metadata": {},
   "outputs": [
    {
     "data": {
      "text/plain": [
       "com.duckduckgo.mobile.android    740\n",
       "com.cloudmosa.puffinTV           608\n",
       "com.brave.browser                370\n",
       "com.vivaldi.browser              370\n",
       "com.transsion.phoenix            370\n",
       "com.opera.browser                304\n",
       "net.fast.web.browser             152\n",
       "com.android.chrome               152\n",
       "Name: App ID, dtype: int64"
      ]
     },
     "execution_count": 12,
     "metadata": {},
     "output_type": "execute_result"
    }
   ],
   "source": [
    "df[\"App ID\"].value_counts()"
   ]
  },
  {
   "cell_type": "code",
   "execution_count": 13,
   "id": "47138e32",
   "metadata": {},
   "outputs": [
    {
     "data": {
      "text/plain": [
       "2020-12-18    2088\n",
       "2021-02-13     370\n",
       "2021-02-27     152\n",
       "2021-02-07     152\n",
       "2021-02-06     152\n",
       "2021-01-21     152\n",
       "Name: Date of Last Description Change, dtype: int64"
      ]
     },
     "execution_count": 13,
     "metadata": {},
     "output_type": "execute_result"
    }
   ],
   "source": [
    "df['Date of Last Description Change'].value_counts()"
   ]
  },
  {
   "cell_type": "code",
   "execution_count": 14,
   "id": "aa88a950",
   "metadata": {},
   "outputs": [
    {
     "data": {
      "text/plain": [
       "Browse the web privately, search anonymously, and escape ad trackers.                   740\n",
       "Free, safe internet browser! Private browsing, search engine &amp; pop-up blocker.      370\n",
       "Fast &amp; private web browser with ad blocker, sync, dark &amp; private mode.          370\n",
       "Funny video, Football &amp; celebrity news, Fast &amp; data-saving browser.             370\n",
       "Fast, safe web browser: free VPN, Ad blocker, QR-code reader &amp; personalized news    304\n",
       "Puffin TV Browser - One App to Watch All Videos on the Web                              304\n",
       "Puffin TV Browser - One App to Watch All Videos on the Web.                             304\n",
       "The small, fastest, secure Web Browser, best mobile browser, fast search Google.        152\n",
       "Fast, simple, and secure. Google Chrome browser for Android phones and tablets.         152\n",
       "Name: Short Description, dtype: int64"
      ]
     },
     "execution_count": 14,
     "metadata": {},
     "output_type": "execute_result"
    }
   ],
   "source": [
    "df['Short Description'].value_counts()"
   ]
  },
  {
   "cell_type": "markdown",
   "id": "f16ed377",
   "metadata": {},
   "source": [
    "# Checking Correlations"
   ]
  },
  {
   "cell_type": "code",
   "execution_count": 139,
   "id": "f326392a",
   "metadata": {},
   "outputs": [
    {
     "name": "stdout",
     "output_type": "stream",
     "text": [
      "Long Description and Short Descriptions are correlated\n"
     ]
    }
   ],
   "source": [
    "import nltk\n",
    "import pandas as pd\n",
    "import matplotlib.pyplot as plt\n",
    "import seaborn as sns\n",
    "import nltk\n",
    "from nltk.corpus import stopwords\n",
    "from nltk.stem import WordNetLemmatizer\n",
    "import re\n",
    "from bs4 import BeautifulSoup\n",
    "from nltk.stem import WordNetLemmatizer\n",
    "from nltk.sentiment import SentimentIntensityAnalyzer\n",
    "import csv\n",
    "lemmatizer = WordNetLemmatizer()\n",
    "\n",
    "class RankingData:\n",
    "    def fileOperations(self):\n",
    "\n",
    "        df = pd.read_csv('browser_rankings_data.csv',skiprows=[0])\n",
    "\n",
    "    # Get the number of reviews based on the df cloumn size\n",
    "        num_reviews = df['Long Description'].size\n",
    "        \n",
    "        \n",
    "        \n",
    "        \n",
    "        \n",
    "        \n",
    "        def remove_emoji(string):\n",
    "            emoji_pattern = re.compile(\"[\"\n",
    "                                       u\"\\U0001F600-\\U0001F64F\"  # emoticons\n",
    "                                       u\"\\U0001F300-\\U0001F5FF\"  # symbols & pictographs\n",
    "                                       u\"\\U0001F680-\\U0001F6FF\"  # transport & map symbols\n",
    "                                       u\"\\U0001F1E0-\\U0001F1FF\"  # flags (iOS)\n",
    "                                       u\"\\U00002500-\\U00002BEF\"  # chinese char\n",
    "                                       u\"\\U00002702-\\U000027B0\"\n",
    "                                       u\"\\U00002702-\\U000027B0\"\n",
    "                                       u\"\\U000024C2-\\U0001F251\"\n",
    "                                       u\"\\U0001f926-\\U0001f937\"\n",
    "                                       u\"\\U00010000-\\U0010ffff\"\n",
    "                                       u\"\\u2640-\\u2642\"\n",
    "                                       u\"\\u2600-\\u2B55\"\n",
    "                                       u\"\\u200d\"\n",
    "                                       u\"\\u23cf\"\n",
    "                                       u\"\\u23e9\"\n",
    "                                       u\"\\u231a\"\n",
    "                                       u\"\\ufe0f\"  # dingbats\n",
    "                                       u\"\\u3030\"\n",
    "                                       \"]+\", flags=re.UNICODE)\n",
    "            #print('In emoji remover')\n",
    "            return emoji_pattern.sub(r'', string)\n",
    "\n",
    "\n",
    "        def review_to_words( raw_review ):\n",
    "\n",
    "            #. Remove non letters\n",
    "            current=remove_emoji(raw_review)\n",
    "            letters_only = re.sub(\"[^a-zA-Z]\", \" \", current)\n",
    "\n",
    "            words = letters_only.lower().split()\n",
    "            stops = set(stopwords.words(\"english\"))\n",
    "            stops.remove('no')\n",
    "            stops.remove('not')\n",
    "\n",
    "            meaningful_words = []\n",
    "            for token in words:\n",
    "                if token not in stops:\n",
    "                    token= lemmatizer.lemmatize(token)\n",
    "                    meaningful_words.append(token)\n",
    "                    #print('\\nNext Token : ',token)\n",
    "                    #print('In reviews to words')\n",
    "            return \" \".join(meaningful_words)\n",
    "\n",
    "\n",
    "\n",
    "        def analyzerFunc(df):\n",
    "            sia = SentimentIntensityAnalyzer()\n",
    "                    #with open('TextualCorrelation.csv','w',encoding=\"utf-8\") as f:\n",
    "                    #writer=csv.writer(f)\n",
    "                    #writer.writerow(df.columns)\n",
    "            count_corr=0\n",
    "            not_corr=0\n",
    "            for i in range(0,df['Long Description'].size):\n",
    "                        #---\n",
    "\n",
    "                if(abs(sia.polarity_scores(df['Cleaned_ShortDescription'][i])['neg']-sia.polarity_scores(df['Cleaned_LongDescription'][i])['neg'])<0.3 and abs(sia.polarity_scores(df['Cleaned_ShortDescription'][i])['neu']-sia.polarity_scores(df['Cleaned_LongDescription'][i])['neu'])<0.3 and abs(sia.polarity_scores(df['Cleaned_ShortDescription'][i])['pos']-sia.polarity_scores(df['Cleaned_LongDescription'][i])['pos'])<0.3):\n",
    "                    count_corr+=1\n",
    "                else :\n",
    "                    not_corr+=1\n",
    "            #print('\\n Correlated Count : ',count_corr,'Non Correlated Count : ',not_corr)\n",
    "            if(count_corr-not_corr<300):\n",
    "                print('Long Description and Short Descriptions are NOT correlated')\n",
    "            else:\n",
    "                print('Long Description and Short Descriptions are correlated')\n",
    "                    \n",
    "\n",
    "\n",
    "                        #df.drop('Cleaned Reviews',axis=1,inplace=True)\n",
    "                        #output=[]\n",
    "                        #df2 = pd.read_csv(\"GoodReviewsBadRating.csv\")\n",
    "                        #for i in range(0,df2['Text'].size):\n",
    "                        #output.append(df2.iloc[i])\n",
    "                        #print(output)\n",
    "                        #print('In analyzaer')\n",
    "                        #return output\n",
    "\n",
    "                        #df2=pd.read_csv('GoodReviewsBadRating.csv')\n",
    "\n",
    "        \n",
    "        \n",
    "        \n",
    "        \n",
    "        \n",
    "        \n",
    "        \n",
    "\n",
    "    # Initialise an empty list to hold the clean reviews\n",
    "        cleaned_ld = []\n",
    "        cleaned_sd = []\n",
    "\n",
    "    # Loop over each review; create an index i that goes from 0 to the length\n",
    "    # of the movie review list\n",
    "        for i in range(0, num_reviews):\n",
    "        # call our function for each one, and add the result to the list of\n",
    "        # clean reviews\n",
    "        #print(df['Text'][i])\n",
    "            cleaned_ld.append(review_to_words(df['Long Description'][i]))\n",
    "            cleaned_sd.append(review_to_words(df['Short Description'][i]))\n",
    "\n",
    "        df['Cleaned_LongDescription']=cleaned_ld\n",
    "        df['Cleaned_ShortDescription']=cleaned_sd\n",
    "        \n",
    "        output=analyzerFunc(df)\n",
    "        #return output\n",
    "\n",
    "obj=RankingData()\n",
    "obj.fileOperations()"
   ]
  }
 ],
 "metadata": {
  "kernelspec": {
   "display_name": "Python 3 (ipykernel)",
   "language": "python",
   "name": "python3"
  },
  "language_info": {
   "codemirror_mode": {
    "name": "ipython",
    "version": 3
   },
   "file_extension": ".py",
   "mimetype": "text/x-python",
   "name": "python",
   "nbconvert_exporter": "python",
   "pygments_lexer": "ipython3",
   "version": "3.9.7"
  }
 },
 "nbformat": 4,
 "nbformat_minor": 5
}
